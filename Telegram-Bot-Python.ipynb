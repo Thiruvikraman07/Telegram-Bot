{
 "cells": [
  {
   "cell_type": "code",
   "execution_count": 1,
   "id": "a4141252",
   "metadata": {},
   "outputs": [],
   "source": [
    "import requests,json"
   ]
  },
  {
   "cell_type": "code",
   "execution_count": 148,
   "id": "e307b837",
   "metadata": {},
   "outputs": [],
   "source": [
    "def print_weather_condition_by_day(x):\n",
    "    temp = x['forecast']['forecastday']\n",
    "    st = \"\"\n",
    "    for i in temp:\n",
    "        st += i['date']\n",
    "        st += \"\\n\"\n",
    "        st += \"Max Temperature: \"+str(i['day']['maxtemp_c'])\n",
    "        st += \"\\n\"\n",
    "        st += \"Min Temperature: \"+str(i['day']['mintemp_c'])\n",
    "        st += \"\\n\"\n",
    "        st += 'Weather: '+str(i['day']['condition']['text'])\n",
    "        st += \"\\n\"\n",
    "    return st\n",
    "        "
   ]
  },
  {
   "cell_type": "code",
   "execution_count": 149,
   "id": "c6158d6e",
   "metadata": {},
   "outputs": [],
   "source": [
    "def print_if_rain(x):\n",
    "    temp = x['forecast']['forecastday']\n",
    "    st = \"\"\n",
    "    for i in temp:\n",
    "        temp1 = i['hour']\n",
    "        for j in temp1:\n",
    "            if('Rain' in j['condition']['text'])or('rain' in j['condition']['text']):\n",
    "                \n",
    "                st += j['time']+\" : \"+j['condition']['text'] + \"\\n\"\n",
    "                \n",
    "    return st"
   ]
  },
  {
   "cell_type": "code",
   "execution_count": 198,
   "id": "f7bf609a",
   "metadata": {},
   "outputs": [],
   "source": [
    "import os\n",
    "\n",
    "import telebot\n",
    "\n",
    "BOT_TOKEN = os.environ.get('BOT_TOKEN')\n",
    "\n",
    "bot = telebot.TeleBot('YOUR_TOKEN')"
   ]
  },
  {
   "cell_type": "code",
   "execution_count": 199,
   "id": "eb3db682",
   "metadata": {},
   "outputs": [],
   "source": [
    "@bot.message_handler(commands=['start', 'hello'])\n",
    "def send_welcome(message):\n",
    "    bot.reply_to(message, \"Use /SmartIrrigation\")"
   ]
  },
  {
   "cell_type": "code",
   "execution_count": null,
   "id": "7acd6e42",
   "metadata": {},
   "outputs": [],
   "source": []
  },
  {
   "cell_type": "code",
   "execution_count": 200,
   "id": "6c821c81",
   "metadata": {},
   "outputs": [],
   "source": [
    "@bot.message_handler(commands=['SmartIrrigation'])\n",
    "def irrigation_handler(message):\n",
    "    text = \"1.Humidity\\n2.Weather Overview\\n3.Rain Check\"\n",
    "    sent_msg = bot.send_message(message.chat.id, text, parse_mode=\"Markdown\")\n",
    "    bot.register_next_step_handler(sent_msg, msg_handler)"
   ]
  },
  {
   "cell_type": "code",
   "execution_count": 201,
   "id": "862ffc41",
   "metadata": {},
   "outputs": [],
   "source": [
    "\n",
    "def get_update(api_key,lat,long):\n",
    "    lat = str(lat)\n",
    "    long = str(long)\n",
    "    complete_url = \"https://api.weatherapi.com/v1/forecast.json?key=\"+api_key+\"&q=\"+lat+\",\"+long+\"&days=2&aqi=no&alerts=yes\"\n",
    "    response = requests.get(complete_url)\n",
    "    x = response.json()\n",
    "    return x\n",
    "    \n",
    "    "
   ]
  },
  {
   "cell_type": "code",
   "execution_count": 202,
   "id": "5dc8ff97",
   "metadata": {},
   "outputs": [],
   "source": [
    "def msg_handler(message):\n",
    "    lat = 38.040585\n",
    "    long = -84.503716\n",
    "    api_key = \"Your API Key\"\n",
    "    choice = message.text\n",
    "    if choice == \"1\":\n",
    "        bot.send_message(message.chat.id, \"Currently Not Available\")\n",
    "    elif choice == \"2\":\n",
    "        x = get_update(api_key,lat,long)\n",
    "        bot.send_message(message.chat.id, print_weather_condition_by_day(x))\n",
    "    elif choice == \"3\":\n",
    "        x = get_update(api_key,lat,long)\n",
    "        bot.send_message(message.chat.id, print_if_rain(x))\n",
    "        \n",
    "        \n",
    "        \n",
    "        \n",
    "        "
   ]
  },
  {
   "cell_type": "code",
   "execution_count": null,
   "id": "b8b3bd20",
   "metadata": {},
   "outputs": [],
   "source": [
    "bot.infinity_polling()"
   ]
  },
  {
   "cell_type": "code",
   "execution_count": null,
   "id": "fa3410b8",
   "metadata": {},
   "outputs": [],
   "source": []
  }
 ],
 "metadata": {
  "kernelspec": {
   "display_name": "Python 3 (ipykernel)",
   "language": "python",
   "name": "python3"
  },
  "language_info": {
   "codemirror_mode": {
    "name": "ipython",
    "version": 3
   },
   "file_extension": ".py",
   "mimetype": "text/x-python",
   "name": "python",
   "nbconvert_exporter": "python",
   "pygments_lexer": "ipython3",
   "version": "3.9.13"
  }
 },
 "nbformat": 4,
 "nbformat_minor": 5
}
